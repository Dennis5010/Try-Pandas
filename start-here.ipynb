{
 "cells": [
  {
   "cell_type": "markdown",
   "source": "# Welcome\n\nThis is an interactive notebook. It allows us to write & run code, include Markdown-based instructions, and create visualizations.\n\nAssuming you have [launched this code on Deepnote](https://deepnote.com/launch?url=https://github.com/codingforentrepreneurs/Try-Pandas), click `Run Notebook` above.\n\nWhat you'll find in this project is a lot of notebooks. Each notebook should work in isolation so you can learn Pandas.\n\nBelow is a very basic example of how you can both write code and allow anyone to collaborate with you. ",
   "metadata": {
    "tags": [],
    "cell_id": "00001-691e21a4-843f-476d-8cbb-9aa691d1d0d8",
    "deepnote_cell_type": "markdown"
   }
  },
  {
   "cell_type": "code",
   "metadata": {
    "tags": [],
    "cell_id": "00000-4fa6d049-fec9-4534-a889-f8f1d2535af4",
    "deepnote_to_be_reexecuted": false,
    "source_hash": "995fd754",
    "execution_start": 1633803402328,
    "execution_millis": 6490,
    "deepnote_cell_type": "code"
   },
   "source": "name = input(\"Type your name then press enter:\")\nprint(f\"Nice to meet you {name}. Are you ready to get started?\")\n\nwhile True:\n    number = input(\"Type a number then press enter:\")\n    if not number.isdigit():\n        print(\"Please enter a number\")\n        continue\n    number = int(number)\n    break\n\nprint(f\"I enjoy {number} as well.\")\n\nimport pandas as pd\nimport random\nimport datetime\n\nrandom_number = random.randint(0, number)\nrandom_data = [{\"number\": x * random_number, \"time\": datetime.datetime.now(), \"added_by\": name} for x in  range(0, number)]\n\ndf = pd.DataFrame(random_data)",
   "execution_count": null,
   "outputs": [
    {
     "name": "stdout",
     "text": "Nice to meet you Justin. Are you ready to get started?\nI enjoy 55 as well.\n",
     "output_type": "stream"
    },
    {
     "output_type": "execute_result",
     "execution_count": 2,
     "data": {
      "application/vnd.deepnote.dataframe.v2+json": {
       "row_count": 5,
       "column_count": 3,
       "columns": [
        {
         "name": "number",
         "dtype": "int64",
         "stats": {
          "unique_count": 5,
          "nan_count": 0,
          "min": "0",
          "max": "56",
          "histogram": [
           {
            "bin_start": 0,
            "bin_end": 5.6,
            "count": 1
           },
           {
            "bin_start": 5.6,
            "bin_end": 11.2,
            "count": 0
           },
           {
            "bin_start": 11.2,
            "bin_end": 16.799999999999997,
            "count": 1
           },
           {
            "bin_start": 16.799999999999997,
            "bin_end": 22.4,
            "count": 0
           },
           {
            "bin_start": 22.4,
            "bin_end": 28,
            "count": 0
           },
           {
            "bin_start": 28,
            "bin_end": 33.599999999999994,
            "count": 1
           },
           {
            "bin_start": 33.599999999999994,
            "bin_end": 39.199999999999996,
            "count": 0
           },
           {
            "bin_start": 39.199999999999996,
            "bin_end": 44.8,
            "count": 1
           },
           {
            "bin_start": 44.8,
            "bin_end": 50.4,
            "count": 0
           },
           {
            "bin_start": 50.4,
            "bin_end": 56,
            "count": 1
           }
          ]
         }
        },
        {
         "name": "time",
         "dtype": "datetime64[ns]",
         "stats": {
          "unique_count": 4,
          "nan_count": 0,
          "min": "2021-10-09 18:16:48.795440",
          "max": "2021-10-09 18:16:48.795447",
          "histogram": [
           {
            "bin_start": 1633803408795440000,
            "bin_end": 1633803408795441000,
            "count": 1
           },
           {
            "bin_start": 1633803408795441000,
            "bin_end": 1633803408795441400,
            "count": 0
           },
           {
            "bin_start": 1633803408795441400,
            "bin_end": 1633803408795442200,
            "count": 0
           },
           {
            "bin_start": 1633803408795442200,
            "bin_end": 1633803408795443000,
            "count": 0
           },
           {
            "bin_start": 1633803408795443000,
            "bin_end": 1633803408795443700,
            "count": 0
           },
           {
            "bin_start": 1633803408795443700,
            "bin_end": 1633803408795444200,
            "count": 0
           },
           {
            "bin_start": 1633803408795444200,
            "bin_end": 1633803408795445000,
            "count": 0
           },
           {
            "bin_start": 1633803408795445000,
            "bin_end": 1633803408795445800,
            "count": 1
           },
           {
            "bin_start": 1633803408795445800,
            "bin_end": 1633803408795446300,
            "count": 1
           },
           {
            "bin_start": 1633803408795446300,
            "bin_end": 1633803408795447000,
            "count": 2
           }
          ]
         }
        },
        {
         "name": "added_by",
         "dtype": "object",
         "stats": {
          "unique_count": 1,
          "nan_count": 0,
          "categories": [
           {
            "name": "Justin",
            "count": 5
           }
          ]
         }
        },
        {
         "name": "_deepnote_index_column",
         "dtype": "int64"
        }
       ],
       "rows_top": [
        {
         "number": 0,
         "time": "2021-10-09T18:16:48.795440Z",
         "added_by": "Justin",
         "_deepnote_index_column": 0
        },
        {
         "number": 14,
         "time": "2021-10-09T18:16:48.795445Z",
         "added_by": "Justin",
         "_deepnote_index_column": 1
        },
        {
         "number": 28,
         "time": "2021-10-09T18:16:48.795446Z",
         "added_by": "Justin",
         "_deepnote_index_column": 2
        },
        {
         "number": 42,
         "time": "2021-10-09T18:16:48.795447Z",
         "added_by": "Justin",
         "_deepnote_index_column": 3
        },
        {
         "number": 56,
         "time": "2021-10-09T18:16:48.795447Z",
         "added_by": "Justin",
         "_deepnote_index_column": 4
        }
       ],
       "rows_bottom": null
      },
      "text/plain": "   number                       time added_by\n0       0 2021-10-09 18:16:48.795440   Justin\n1      14 2021-10-09 18:16:48.795445   Justin\n2      28 2021-10-09 18:16:48.795446   Justin\n3      42 2021-10-09 18:16:48.795447   Justin\n4      56 2021-10-09 18:16:48.795447   Justin",
      "text/html": "<div>\n<style scoped>\n    .dataframe tbody tr th:only-of-type {\n        vertical-align: middle;\n    }\n\n    .dataframe tbody tr th {\n        vertical-align: top;\n    }\n\n    .dataframe thead th {\n        text-align: right;\n    }\n</style>\n<table border=\"1\" class=\"dataframe\">\n  <thead>\n    <tr style=\"text-align: right;\">\n      <th></th>\n      <th>number</th>\n      <th>time</th>\n      <th>added_by</th>\n    </tr>\n  </thead>\n  <tbody>\n    <tr>\n      <th>0</th>\n      <td>0</td>\n      <td>2021-10-09 18:16:48.795440</td>\n      <td>Justin</td>\n    </tr>\n    <tr>\n      <th>1</th>\n      <td>14</td>\n      <td>2021-10-09 18:16:48.795445</td>\n      <td>Justin</td>\n    </tr>\n    <tr>\n      <th>2</th>\n      <td>28</td>\n      <td>2021-10-09 18:16:48.795446</td>\n      <td>Justin</td>\n    </tr>\n    <tr>\n      <th>3</th>\n      <td>42</td>\n      <td>2021-10-09 18:16:48.795447</td>\n      <td>Justin</td>\n    </tr>\n    <tr>\n      <th>4</th>\n      <td>56</td>\n      <td>2021-10-09 18:16:48.795447</td>\n      <td>Justin</td>\n    </tr>\n  </tbody>\n</table>\n</div>"
     },
     "metadata": {}
    }
   ]
  },
  {
   "cell_type": "markdown",
   "source": "From your number, we have generated a random Pandas spreadsheet although it's not called a spreasheet, it's called a DataFrame. Let's take a look at the top 10 rows (if your number was > 10) in it:",
   "metadata": {
    "tags": [],
    "cell_id": "00002-ce4b4c81-ddce-49be-9e43-742db288db06",
    "deepnote_cell_type": "markdown"
   }
  },
  {
   "cell_type": "code",
   "metadata": {
    "tags": [],
    "cell_id": "00004-82f5d27a-b832-4133-b493-2fb4857137da",
    "deepnote_to_be_reexecuted": false,
    "source_hash": "990bc731",
    "execution_start": 1633803546943,
    "execution_millis": 16,
    "deepnote_cell_type": "code"
   },
   "source": "df.head(n=10)",
   "execution_count": null,
   "outputs": [
    {
     "output_type": "execute_result",
     "execution_count": 5,
     "data": {
      "application/vnd.deepnote.dataframe.v2+json": {
       "row_count": 10,
       "column_count": 3,
       "columns": [
        {
         "name": "number",
         "dtype": "int64",
         "stats": {
          "unique_count": 10,
          "nan_count": 0,
          "min": "0",
          "max": "126",
          "histogram": [
           {
            "bin_start": 0,
            "bin_end": 12.6,
            "count": 1
           },
           {
            "bin_start": 12.6,
            "bin_end": 25.2,
            "count": 1
           },
           {
            "bin_start": 25.2,
            "bin_end": 37.8,
            "count": 1
           },
           {
            "bin_start": 37.8,
            "bin_end": 50.4,
            "count": 1
           },
           {
            "bin_start": 50.4,
            "bin_end": 63,
            "count": 1
           },
           {
            "bin_start": 63,
            "bin_end": 75.6,
            "count": 1
           },
           {
            "bin_start": 75.6,
            "bin_end": 88.2,
            "count": 1
           },
           {
            "bin_start": 88.2,
            "bin_end": 100.8,
            "count": 1
           },
           {
            "bin_start": 100.8,
            "bin_end": 113.39999999999999,
            "count": 1
           },
           {
            "bin_start": 113.39999999999999,
            "bin_end": 126,
            "count": 1
           }
          ]
         }
        },
        {
         "name": "time",
         "dtype": "datetime64[ns]",
         "stats": {
          "unique_count": 9,
          "nan_count": 0,
          "min": "2021-10-09 18:16:48.795440",
          "max": "2021-10-09 18:16:48.795452",
          "histogram": [
           {
            "bin_start": 1633803408795440000,
            "bin_end": 1633803408795441400,
            "count": 1
           },
           {
            "bin_start": 1633803408795441400,
            "bin_end": 1633803408795442400,
            "count": 0
           },
           {
            "bin_start": 1633803408795442400,
            "bin_end": 1633803408795443700,
            "count": 0
           },
           {
            "bin_start": 1633803408795443700,
            "bin_end": 1633803408795444700,
            "count": 0
           },
           {
            "bin_start": 1633803408795444700,
            "bin_end": 1633803408795446000,
            "count": 1
           },
           {
            "bin_start": 1633803408795446000,
            "bin_end": 1633803408795447300,
            "count": 3
           },
           {
            "bin_start": 1633803408795447300,
            "bin_end": 1633803408795448300,
            "count": 1
           },
           {
            "bin_start": 1633803408795448300,
            "bin_end": 1633803408795449600,
            "count": 1
           },
           {
            "bin_start": 1633803408795449600,
            "bin_end": 1633803408795450600,
            "count": 1
           },
           {
            "bin_start": 1633803408795450600,
            "bin_end": 1633803408795452000,
            "count": 2
           }
          ]
         }
        },
        {
         "name": "added_by",
         "dtype": "object",
         "stats": {
          "unique_count": 1,
          "nan_count": 0,
          "categories": [
           {
            "name": "Justin",
            "count": 10
           }
          ]
         }
        },
        {
         "name": "_deepnote_index_column",
         "dtype": "int64"
        }
       ],
       "rows_top": [
        {
         "number": 0,
         "time": "2021-10-09T18:16:48.795440Z",
         "added_by": "Justin",
         "_deepnote_index_column": 0
        },
        {
         "number": 14,
         "time": "2021-10-09T18:16:48.795445Z",
         "added_by": "Justin",
         "_deepnote_index_column": 1
        },
        {
         "number": 28,
         "time": "2021-10-09T18:16:48.795446Z",
         "added_by": "Justin",
         "_deepnote_index_column": 2
        },
        {
         "number": 42,
         "time": "2021-10-09T18:16:48.795447Z",
         "added_by": "Justin",
         "_deepnote_index_column": 3
        },
        {
         "number": 56,
         "time": "2021-10-09T18:16:48.795447Z",
         "added_by": "Justin",
         "_deepnote_index_column": 4
        },
        {
         "number": 70,
         "time": "2021-10-09T18:16:48.795448Z",
         "added_by": "Justin",
         "_deepnote_index_column": 5
        },
        {
         "number": 84,
         "time": "2021-10-09T18:16:48.795449Z",
         "added_by": "Justin",
         "_deepnote_index_column": 6
        },
        {
         "number": 98,
         "time": "2021-10-09T18:16:48.795450Z",
         "added_by": "Justin",
         "_deepnote_index_column": 7
        },
        {
         "number": 112,
         "time": "2021-10-09T18:16:48.795451Z",
         "added_by": "Justin",
         "_deepnote_index_column": 8
        },
        {
         "number": 126,
         "time": "2021-10-09T18:16:48.795452Z",
         "added_by": "Justin",
         "_deepnote_index_column": 9
        }
       ],
       "rows_bottom": null
      },
      "text/plain": "   number                       time added_by\n0       0 2021-10-09 18:16:48.795440   Justin\n1      14 2021-10-09 18:16:48.795445   Justin\n2      28 2021-10-09 18:16:48.795446   Justin\n3      42 2021-10-09 18:16:48.795447   Justin\n4      56 2021-10-09 18:16:48.795447   Justin\n5      70 2021-10-09 18:16:48.795448   Justin\n6      84 2021-10-09 18:16:48.795449   Justin\n7      98 2021-10-09 18:16:48.795450   Justin\n8     112 2021-10-09 18:16:48.795451   Justin\n9     126 2021-10-09 18:16:48.795452   Justin",
      "text/html": "<div>\n<style scoped>\n    .dataframe tbody tr th:only-of-type {\n        vertical-align: middle;\n    }\n\n    .dataframe tbody tr th {\n        vertical-align: top;\n    }\n\n    .dataframe thead th {\n        text-align: right;\n    }\n</style>\n<table border=\"1\" class=\"dataframe\">\n  <thead>\n    <tr style=\"text-align: right;\">\n      <th></th>\n      <th>number</th>\n      <th>time</th>\n      <th>added_by</th>\n    </tr>\n  </thead>\n  <tbody>\n    <tr>\n      <th>0</th>\n      <td>0</td>\n      <td>2021-10-09 18:16:48.795440</td>\n      <td>Justin</td>\n    </tr>\n    <tr>\n      <th>1</th>\n      <td>14</td>\n      <td>2021-10-09 18:16:48.795445</td>\n      <td>Justin</td>\n    </tr>\n    <tr>\n      <th>2</th>\n      <td>28</td>\n      <td>2021-10-09 18:16:48.795446</td>\n      <td>Justin</td>\n    </tr>\n    <tr>\n      <th>3</th>\n      <td>42</td>\n      <td>2021-10-09 18:16:48.795447</td>\n      <td>Justin</td>\n    </tr>\n    <tr>\n      <th>4</th>\n      <td>56</td>\n      <td>2021-10-09 18:16:48.795447</td>\n      <td>Justin</td>\n    </tr>\n    <tr>\n      <th>5</th>\n      <td>70</td>\n      <td>2021-10-09 18:16:48.795448</td>\n      <td>Justin</td>\n    </tr>\n    <tr>\n      <th>6</th>\n      <td>84</td>\n      <td>2021-10-09 18:16:48.795449</td>\n      <td>Justin</td>\n    </tr>\n    <tr>\n      <th>7</th>\n      <td>98</td>\n      <td>2021-10-09 18:16:48.795450</td>\n      <td>Justin</td>\n    </tr>\n    <tr>\n      <th>8</th>\n      <td>112</td>\n      <td>2021-10-09 18:16:48.795451</td>\n      <td>Justin</td>\n    </tr>\n    <tr>\n      <th>9</th>\n      <td>126</td>\n      <td>2021-10-09 18:16:48.795452</td>\n      <td>Justin</td>\n    </tr>\n  </tbody>\n</table>\n</div>"
     },
     "metadata": {}
    }
   ]
  },
  {
   "cell_type": "markdown",
   "source": "Above is an example of how this course will work. There are videos associated to each lesson but the goal is to allow you to run the code anytime to dive deep into what is going on.\n\nAre you ready to begin? Open `Try-Pandas/Courses/Part 1` to start the course!",
   "metadata": {
    "tags": [],
    "cell_id": "00004-49f828e9-9888-4d85-b1e0-d85d40201501",
    "deepnote_cell_type": "markdown"
   }
  },
  {
   "cell_type": "markdown",
   "source": "",
   "metadata": {
    "tags": [],
    "cell_id": "00005-d6e04dff-db3e-4856-bff0-365b84f61b20",
    "deepnote_cell_type": "markdown"
   }
  },
  {
   "cell_type": "markdown",
   "source": "<a style='text-decoration:none;line-height:16px;display:flex;color:#5B5B62;padding:10px;justify-content:end;' href='https://deepnote.com?utm_source=created-in-deepnote-cell&projectId=2bf9a03f-e05f-4973-8570-aa2d452e70d9' target=\"_blank\">\n<img alt='Created in deepnote.com' style='display:inline;max-height:16px;margin:0px;margin-right:7.5px;' src='data:image/svg+xml;base64,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' > </img>\nCreated in <span style='font-weight:600;margin-left:4px;'>Deepnote</span></a>",
   "metadata": {
    "tags": [],
    "created_in_deepnote_cell": true,
    "deepnote_cell_type": "markdown"
   }
  }
 ],
 "nbformat": 4,
 "nbformat_minor": 2,
 "metadata": {
  "orig_nbformat": 2,
  "deepnote": {
   "is_reactive": false
  },
  "deepnote_notebook_id": "c9ce9944-34a5-4f65-b253-4c8d164ece75",
  "deepnote_execution_queue": []
 }
}